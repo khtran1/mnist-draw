{
  "cells": [
    {
      "cell_type": "code",
      "execution_count": 1,
      "metadata": {
        "id": "bpP7t8cZYUPe"
      },
      "outputs": [],
      "source": [
        "import tensorflow as tf\n",
        "import tensorflow_datasets as tfds"
      ]
    },
    {
      "cell_type": "code",
      "execution_count": 2,
      "metadata": {
        "colab": {
          "base_uri": "https://localhost:8080/",
          "height": 84,
          "referenced_widgets": [
            "4f27c32451f246d6bf4e8c01b1bc1f5d",
            "a642eb8559ad4e1583a97f21b1e1280b",
            "fc78b93b1ca04629a5ccc534b669bf64",
            "9db6c972c6da4957bf68ddf955f9aaa6",
            "faddc7bcb49c4239a193367877568fe9",
            "69021daee2844a77b270f5d3ffb2c672",
            "a04f06b6353948bcbd36403d4242aad4",
            "6ad7f94a7ee24886ab26166bdd3c2c95",
            "689b2501bd774d37aebb0c540f6e81a4",
            "22a07e546e2d464ebeac9ae59eb8090f",
            "c628040717c14331904cd67cbd64baf1"
          ]
        },
        "id": "6ENqxi3WY8Xo",
        "outputId": "17712357-f98d-4f18-9efa-eea56412ad51"
      },
      "outputs": [
        {
          "name": "stdout",
          "output_type": "stream",
          "text": [
            "Downloading and preparing dataset Unknown size (download: Unknown size, generated: Unknown size, total: Unknown size) to C:\\Users\\itsno\\tensorflow_datasets\\mnist\\3.0.1...\n"
          ]
        },
        {
          "name": "stderr",
          "output_type": "stream",
          "text": [
            "Dl Completed...: 0 url [00:00, ? url/s]\n",
            "Dl Completed...:   0%|          | 0/1 [00:00<?, ? url/s]\n",
            "Dl Completed...:   0%|          | 0/2 [00:00<?, ? url/s]\n",
            "Dl Completed...:   0%|          | 0/3 [00:00<?, ? url/s]\n",
            "Dl Completed...:   0%|          | 0/4 [00:00<?, ? url/s]\n",
            "Dl Completed...:   0%|          | 0/4 [00:00<?, ? url/s]\n",
            "Dl Completed...:   0%|          | 0/4 [00:00<?, ? url/s]\n",
            "Dl Completed...:   0%|          | 0/4 [00:00<?, ? url/s]\n",
            "Dl Completed...:   0%|          | 0/4 [00:00<?, ? url/s]\n",
            "Dl Completed...:  25%|██▌       | 1/4 [00:00<00:00,  3.76 url/s]\n",
            "Dl Completed...:  50%|█████     | 2/4 [00:00<00:00,  3.76 url/s]\n",
            "Dl Completed...:  50%|█████     | 2/4 [00:00<00:00,  3.76 url/s]\n",
            "\u001b[A\n",
            "Dl Completed...:  50%|█████     | 2/4 [00:00<00:00,  3.76 url/s]\n",
            "Dl Completed...:  50%|█████     | 2/4 [00:00<00:00,  3.76 url/s]\n",
            "Dl Completed...:  50%|█████     | 2/4 [00:00<00:00,  3.76 url/s]\n",
            "Dl Completed...:  50%|█████     | 2/4 [00:00<00:00,  3.76 url/s]\n",
            "Dl Completed...:  50%|█████     | 2/4 [00:00<00:00,  3.76 url/s]\n",
            "Dl Completed...:  50%|█████     | 2/4 [00:00<00:00,  3.76 url/s]\n",
            "Dl Completed...:  75%|███████▌  | 3/4 [00:00<00:00,  7.06 url/s]\n",
            "Dl Completed...:  75%|███████▌  | 3/4 [00:00<00:00,  7.06 url/s]\n",
            "Dl Completed...:  75%|███████▌  | 3/4 [00:00<00:00,  7.06 url/s]\n",
            "Dl Completed...:  75%|███████▌  | 3/4 [00:00<00:00,  7.06 url/s]\n",
            "Dl Completed...:  75%|███████▌  | 3/4 [00:00<00:00,  7.06 url/s]\n",
            "\u001b[A\n",
            "Dl Completed...:  75%|███████▌  | 3/4 [00:00<00:00,  7.06 url/s]\n",
            "Dl Completed...:  75%|███████▌  | 3/4 [00:00<00:00,  7.06 url/s]\n",
            "Dl Completed...:  75%|███████▌  | 3/4 [00:00<00:00,  7.06 url/s]\n",
            "Dl Completed...:  75%|███████▌  | 3/4 [00:00<00:00,  7.06 url/s]\n",
            "Dl Completed...:  75%|███████▌  | 3/4 [00:00<00:00,  7.06 url/s]\n",
            "Dl Completed...: 100%|██████████| 4/4 [00:00<00:00,  4.20 url/s]\n",
            "Dl Completed...: 100%|██████████| 4/4 [00:01<00:00,  4.20 url/s]\n",
            "\u001b[A\n",
            "Dl Completed...: 100%|██████████| 4/4 [00:01<00:00,  4.20 url/s]\n",
            "Extraction completed...: 100%|██████████| 4/4 [00:01<00:00,  3.09 file/s]\n",
            "Dl Size...: 100%|██████████| 10/10 [00:01<00:00,  7.72 MiB/s]\n",
            "Dl Completed...: 100%|██████████| 4/4 [00:01<00:00,  3.08 url/s]\n",
            "                                                                        \r"
          ]
        },
        {
          "name": "stdout",
          "output_type": "stream",
          "text": [
            "Dataset mnist downloaded and prepared to C:\\Users\\itsno\\tensorflow_datasets\\mnist\\3.0.1. Subsequent calls will reuse this data.\n"
          ]
        }
      ],
      "source": [
        "# Load the MNIST dataset, shuffled and supervised (returning tuple (img, label)\n",
        "# instead of dictionary {'image': img, 'label': label})\n",
        "(ds_train, ds_test), ds_info = tfds.load(\n",
        "    'mnist',\n",
        "    split=['train', 'test'],\n",
        "    shuffle_files = True,\n",
        "    as_supervised = True,\n",
        "    with_info = True\n",
        ")"
      ]
    },
    {
      "cell_type": "code",
      "execution_count": 3,
      "metadata": {
        "id": "WIDG8l6_ZYKK"
      },
      "outputs": [],
      "source": [
        "# Building a training set pipeline\n",
        "\n",
        "def normalize_img(image, label):\n",
        "  '''Normalizes images from 'uint-8' to 'float32'''\n",
        "  return tf.cast(image, tf.float32) / 255.0, label\n",
        "\n",
        "# Normalize our training set, with a dynamic number of parallel calls\n",
        "ds_train = ds_train.map(normalize_img, num_parallel_calls=tf.data.AUTOTUNE)\n",
        "\n",
        "# Cache our training set for better performance (done before random transforms)\n",
        "ds_train = ds_train.cache()\n",
        "\n",
        "# Shuffle training set, with buffer set to full dataset size for max randomness\n",
        "# Can be lowered if large dataset cannot fit into memory\n",
        "ds_train = ds_train.shuffle(buffer_size = ds_info.splits['train'].num_examples)\n",
        "\n",
        "# Self-explanatory, batches up elements to get unique batches at each epoch\n",
        "ds_train = ds_train.batch(batch_size = 128)\n",
        "\n",
        "# Overlaps preprocessing and model execution for performance\n",
        "# Good practice to end off pipelines with this!\n",
        "ds_train = ds_train.prefetch(buffer_size = tf.data.AUTOTUNE)"
      ]
    },
    {
      "cell_type": "code",
      "execution_count": 4,
      "metadata": {
        "id": "5EQnx0JBbjty"
      },
      "outputs": [],
      "source": [
        "# Building a test set pipeline, same as training\n",
        "\n",
        "ds_test = ds_test.map(normalize_img, num_parallel_calls=tf.data.AUTOTUNE)\n",
        "\n",
        "ds_test = ds_test.batch(128)\n",
        "ds_test = ds_test.cache()\n",
        "ds_test = ds_test.prefetch(buffer_size = tf.data.AUTOTUNE)"
      ]
    },
    {
      "cell_type": "code",
      "execution_count": 5,
      "metadata": {
        "id": "hfFdoyc-doQY"
      },
      "outputs": [],
      "source": [
        "# Create the model\n",
        "\n",
        "model = tf.keras.models.Sequential([\n",
        "    tf.keras.layers.Flatten(input_shape=(28, 28)),\n",
        "    tf.keras.layers.Dense(128, activation='relu'),\n",
        "    tf.keras.layers.Dense(10)\n",
        "])\n",
        "\n",
        "model.compile(\n",
        "    optimizer = tf.keras.optimizers.Adam(learning_rate = 0.001),\n",
        "    loss = tf.keras.losses.SparseCategoricalCrossentropy(from_logits=True),\n",
        "    metrics = [tf.keras.metrics.SparseCategoricalAccuracy()]\n",
        ")"
      ]
    },
    {
      "cell_type": "code",
      "execution_count": 6,
      "metadata": {
        "colab": {
          "base_uri": "https://localhost:8080/"
        },
        "id": "hZgcx-8ueRiC",
        "outputId": "1b91bc11-3bda-44f7-9940-81145e8520c5"
      },
      "outputs": [
        {
          "name": "stdout",
          "output_type": "stream",
          "text": [
            "Epoch 1/10\n",
            "469/469 [==============================] - 4s 3ms/step - loss: 0.3614 - sparse_categorical_accuracy: 0.8995 - val_loss: 0.2003 - val_sparse_categorical_accuracy: 0.9425\n",
            "Epoch 2/10\n",
            "469/469 [==============================] - 1s 3ms/step - loss: 0.1681 - sparse_categorical_accuracy: 0.9513 - val_loss: 0.1404 - val_sparse_categorical_accuracy: 0.9582\n",
            "Epoch 3/10\n",
            "469/469 [==============================] - 1s 3ms/step - loss: 0.1225 - sparse_categorical_accuracy: 0.9655 - val_loss: 0.1177 - val_sparse_categorical_accuracy: 0.9644\n",
            "Epoch 4/10\n",
            "469/469 [==============================] - 1s 3ms/step - loss: 0.0949 - sparse_categorical_accuracy: 0.9725 - val_loss: 0.1007 - val_sparse_categorical_accuracy: 0.9698\n",
            "Epoch 5/10\n",
            "469/469 [==============================] - 1s 3ms/step - loss: 0.0773 - sparse_categorical_accuracy: 0.9772 - val_loss: 0.0930 - val_sparse_categorical_accuracy: 0.9721\n",
            "Epoch 6/10\n",
            "469/469 [==============================] - 1s 3ms/step - loss: 0.0641 - sparse_categorical_accuracy: 0.9817 - val_loss: 0.0842 - val_sparse_categorical_accuracy: 0.9746\n",
            "Epoch 7/10\n",
            "469/469 [==============================] - 1s 3ms/step - loss: 0.0532 - sparse_categorical_accuracy: 0.9843 - val_loss: 0.0835 - val_sparse_categorical_accuracy: 0.9734\n",
            "Epoch 8/10\n",
            "469/469 [==============================] - 1s 3ms/step - loss: 0.0441 - sparse_categorical_accuracy: 0.9872 - val_loss: 0.0812 - val_sparse_categorical_accuracy: 0.9752\n",
            "Epoch 9/10\n",
            "469/469 [==============================] - 1s 3ms/step - loss: 0.0379 - sparse_categorical_accuracy: 0.9890 - val_loss: 0.0770 - val_sparse_categorical_accuracy: 0.9763\n",
            "Epoch 10/10\n",
            "469/469 [==============================] - 1s 3ms/step - loss: 0.0323 - sparse_categorical_accuracy: 0.9911 - val_loss: 0.0729 - val_sparse_categorical_accuracy: 0.9780\n"
          ]
        },
        {
          "data": {
            "text/plain": [
              "<keras.src.callbacks.History at 0x280e6d75c10>"
            ]
          },
          "execution_count": 6,
          "metadata": {},
          "output_type": "execute_result"
        }
      ],
      "source": [
        "# Train the model\n",
        "\n",
        "model.fit(\n",
        "    ds_train,\n",
        "    epochs = 10,\n",
        "    validation_data = ds_test\n",
        ")"
      ]
    },
    {
      "cell_type": "code",
      "execution_count": 9,
      "metadata": {
        "id": "fDtF94H1gXJD"
      },
      "outputs": [],
      "source": [
        "# Save model\n",
        "\n",
        "model.save(\"model.keras\")"
      ]
    }
  ],
  "metadata": {
    "colab": {
      "provenance": []
    },
    "kernelspec": {
      "display_name": "Python 3",
      "name": "python3"
    },
    "language_info": {
      "codemirror_mode": {
        "name": "ipython",
        "version": 3
      },
      "file_extension": ".py",
      "mimetype": "text/x-python",
      "name": "python",
      "nbconvert_exporter": "python",
      "pygments_lexer": "ipython3",
      "version": "3.9.7"
    },
    "widgets": {
      "application/vnd.jupyter.widget-state+json": {
        "22a07e546e2d464ebeac9ae59eb8090f": {
          "model_module": "@jupyter-widgets/base",
          "model_module_version": "1.2.0",
          "model_name": "LayoutModel",
          "state": {
            "_model_module": "@jupyter-widgets/base",
            "_model_module_version": "1.2.0",
            "_model_name": "LayoutModel",
            "_view_count": null,
            "_view_module": "@jupyter-widgets/base",
            "_view_module_version": "1.2.0",
            "_view_name": "LayoutView",
            "align_content": null,
            "align_items": null,
            "align_self": null,
            "border": null,
            "bottom": null,
            "display": null,
            "flex": null,
            "flex_flow": null,
            "grid_area": null,
            "grid_auto_columns": null,
            "grid_auto_flow": null,
            "grid_auto_rows": null,
            "grid_column": null,
            "grid_gap": null,
            "grid_row": null,
            "grid_template_areas": null,
            "grid_template_columns": null,
            "grid_template_rows": null,
            "height": null,
            "justify_content": null,
            "justify_items": null,
            "left": null,
            "margin": null,
            "max_height": null,
            "max_width": null,
            "min_height": null,
            "min_width": null,
            "object_fit": null,
            "object_position": null,
            "order": null,
            "overflow": null,
            "overflow_x": null,
            "overflow_y": null,
            "padding": null,
            "right": null,
            "top": null,
            "visibility": null,
            "width": null
          }
        },
        "4f27c32451f246d6bf4e8c01b1bc1f5d": {
          "model_module": "@jupyter-widgets/controls",
          "model_module_version": "1.5.0",
          "model_name": "HBoxModel",
          "state": {
            "_dom_classes": [],
            "_model_module": "@jupyter-widgets/controls",
            "_model_module_version": "1.5.0",
            "_model_name": "HBoxModel",
            "_view_count": null,
            "_view_module": "@jupyter-widgets/controls",
            "_view_module_version": "1.5.0",
            "_view_name": "HBoxView",
            "box_style": "",
            "children": [
              "IPY_MODEL_a642eb8559ad4e1583a97f21b1e1280b",
              "IPY_MODEL_fc78b93b1ca04629a5ccc534b669bf64",
              "IPY_MODEL_9db6c972c6da4957bf68ddf955f9aaa6"
            ],
            "layout": "IPY_MODEL_faddc7bcb49c4239a193367877568fe9"
          }
        },
        "689b2501bd774d37aebb0c540f6e81a4": {
          "model_module": "@jupyter-widgets/controls",
          "model_module_version": "1.5.0",
          "model_name": "ProgressStyleModel",
          "state": {
            "_model_module": "@jupyter-widgets/controls",
            "_model_module_version": "1.5.0",
            "_model_name": "ProgressStyleModel",
            "_view_count": null,
            "_view_module": "@jupyter-widgets/base",
            "_view_module_version": "1.2.0",
            "_view_name": "StyleView",
            "bar_color": null,
            "description_width": ""
          }
        },
        "69021daee2844a77b270f5d3ffb2c672": {
          "model_module": "@jupyter-widgets/base",
          "model_module_version": "1.2.0",
          "model_name": "LayoutModel",
          "state": {
            "_model_module": "@jupyter-widgets/base",
            "_model_module_version": "1.2.0",
            "_model_name": "LayoutModel",
            "_view_count": null,
            "_view_module": "@jupyter-widgets/base",
            "_view_module_version": "1.2.0",
            "_view_name": "LayoutView",
            "align_content": null,
            "align_items": null,
            "align_self": null,
            "border": null,
            "bottom": null,
            "display": null,
            "flex": null,
            "flex_flow": null,
            "grid_area": null,
            "grid_auto_columns": null,
            "grid_auto_flow": null,
            "grid_auto_rows": null,
            "grid_column": null,
            "grid_gap": null,
            "grid_row": null,
            "grid_template_areas": null,
            "grid_template_columns": null,
            "grid_template_rows": null,
            "height": null,
            "justify_content": null,
            "justify_items": null,
            "left": null,
            "margin": null,
            "max_height": null,
            "max_width": null,
            "min_height": null,
            "min_width": null,
            "object_fit": null,
            "object_position": null,
            "order": null,
            "overflow": null,
            "overflow_x": null,
            "overflow_y": null,
            "padding": null,
            "right": null,
            "top": null,
            "visibility": null,
            "width": null
          }
        },
        "6ad7f94a7ee24886ab26166bdd3c2c95": {
          "model_module": "@jupyter-widgets/base",
          "model_module_version": "1.2.0",
          "model_name": "LayoutModel",
          "state": {
            "_model_module": "@jupyter-widgets/base",
            "_model_module_version": "1.2.0",
            "_model_name": "LayoutModel",
            "_view_count": null,
            "_view_module": "@jupyter-widgets/base",
            "_view_module_version": "1.2.0",
            "_view_name": "LayoutView",
            "align_content": null,
            "align_items": null,
            "align_self": null,
            "border": null,
            "bottom": null,
            "display": null,
            "flex": null,
            "flex_flow": null,
            "grid_area": null,
            "grid_auto_columns": null,
            "grid_auto_flow": null,
            "grid_auto_rows": null,
            "grid_column": null,
            "grid_gap": null,
            "grid_row": null,
            "grid_template_areas": null,
            "grid_template_columns": null,
            "grid_template_rows": null,
            "height": null,
            "justify_content": null,
            "justify_items": null,
            "left": null,
            "margin": null,
            "max_height": null,
            "max_width": null,
            "min_height": null,
            "min_width": null,
            "object_fit": null,
            "object_position": null,
            "order": null,
            "overflow": null,
            "overflow_x": null,
            "overflow_y": null,
            "padding": null,
            "right": null,
            "top": null,
            "visibility": null,
            "width": null
          }
        },
        "9db6c972c6da4957bf68ddf955f9aaa6": {
          "model_module": "@jupyter-widgets/controls",
          "model_module_version": "1.5.0",
          "model_name": "HTMLModel",
          "state": {
            "_dom_classes": [],
            "_model_module": "@jupyter-widgets/controls",
            "_model_module_version": "1.5.0",
            "_model_name": "HTMLModel",
            "_view_count": null,
            "_view_module": "@jupyter-widgets/controls",
            "_view_module_version": "1.5.0",
            "_view_name": "HTMLView",
            "description": "",
            "description_tooltip": null,
            "layout": "IPY_MODEL_22a07e546e2d464ebeac9ae59eb8090f",
            "placeholder": "​",
            "style": "IPY_MODEL_c628040717c14331904cd67cbd64baf1",
            "value": " 5/5 [00:00&lt;00:00, 11.41 file/s]"
          }
        },
        "a04f06b6353948bcbd36403d4242aad4": {
          "model_module": "@jupyter-widgets/controls",
          "model_module_version": "1.5.0",
          "model_name": "DescriptionStyleModel",
          "state": {
            "_model_module": "@jupyter-widgets/controls",
            "_model_module_version": "1.5.0",
            "_model_name": "DescriptionStyleModel",
            "_view_count": null,
            "_view_module": "@jupyter-widgets/base",
            "_view_module_version": "1.2.0",
            "_view_name": "StyleView",
            "description_width": ""
          }
        },
        "a642eb8559ad4e1583a97f21b1e1280b": {
          "model_module": "@jupyter-widgets/controls",
          "model_module_version": "1.5.0",
          "model_name": "HTMLModel",
          "state": {
            "_dom_classes": [],
            "_model_module": "@jupyter-widgets/controls",
            "_model_module_version": "1.5.0",
            "_model_name": "HTMLModel",
            "_view_count": null,
            "_view_module": "@jupyter-widgets/controls",
            "_view_module_version": "1.5.0",
            "_view_name": "HTMLView",
            "description": "",
            "description_tooltip": null,
            "layout": "IPY_MODEL_69021daee2844a77b270f5d3ffb2c672",
            "placeholder": "​",
            "style": "IPY_MODEL_a04f06b6353948bcbd36403d4242aad4",
            "value": "Dl Completed...: 100%"
          }
        },
        "c628040717c14331904cd67cbd64baf1": {
          "model_module": "@jupyter-widgets/controls",
          "model_module_version": "1.5.0",
          "model_name": "DescriptionStyleModel",
          "state": {
            "_model_module": "@jupyter-widgets/controls",
            "_model_module_version": "1.5.0",
            "_model_name": "DescriptionStyleModel",
            "_view_count": null,
            "_view_module": "@jupyter-widgets/base",
            "_view_module_version": "1.2.0",
            "_view_name": "StyleView",
            "description_width": ""
          }
        },
        "faddc7bcb49c4239a193367877568fe9": {
          "model_module": "@jupyter-widgets/base",
          "model_module_version": "1.2.0",
          "model_name": "LayoutModel",
          "state": {
            "_model_module": "@jupyter-widgets/base",
            "_model_module_version": "1.2.0",
            "_model_name": "LayoutModel",
            "_view_count": null,
            "_view_module": "@jupyter-widgets/base",
            "_view_module_version": "1.2.0",
            "_view_name": "LayoutView",
            "align_content": null,
            "align_items": null,
            "align_self": null,
            "border": null,
            "bottom": null,
            "display": null,
            "flex": null,
            "flex_flow": null,
            "grid_area": null,
            "grid_auto_columns": null,
            "grid_auto_flow": null,
            "grid_auto_rows": null,
            "grid_column": null,
            "grid_gap": null,
            "grid_row": null,
            "grid_template_areas": null,
            "grid_template_columns": null,
            "grid_template_rows": null,
            "height": null,
            "justify_content": null,
            "justify_items": null,
            "left": null,
            "margin": null,
            "max_height": null,
            "max_width": null,
            "min_height": null,
            "min_width": null,
            "object_fit": null,
            "object_position": null,
            "order": null,
            "overflow": null,
            "overflow_x": null,
            "overflow_y": null,
            "padding": null,
            "right": null,
            "top": null,
            "visibility": null,
            "width": null
          }
        },
        "fc78b93b1ca04629a5ccc534b669bf64": {
          "model_module": "@jupyter-widgets/controls",
          "model_module_version": "1.5.0",
          "model_name": "FloatProgressModel",
          "state": {
            "_dom_classes": [],
            "_model_module": "@jupyter-widgets/controls",
            "_model_module_version": "1.5.0",
            "_model_name": "FloatProgressModel",
            "_view_count": null,
            "_view_module": "@jupyter-widgets/controls",
            "_view_module_version": "1.5.0",
            "_view_name": "ProgressView",
            "bar_style": "success",
            "description": "",
            "description_tooltip": null,
            "layout": "IPY_MODEL_6ad7f94a7ee24886ab26166bdd3c2c95",
            "max": 5,
            "min": 0,
            "orientation": "horizontal",
            "style": "IPY_MODEL_689b2501bd774d37aebb0c540f6e81a4",
            "value": 5
          }
        }
      }
    }
  },
  "nbformat": 4,
  "nbformat_minor": 0
}
